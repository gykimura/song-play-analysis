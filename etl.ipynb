{
 "cells": [
  {
   "cell_type": "markdown",
   "metadata": {},
   "source": [
    "# ETL Processes\n",
    "Use this notebook to develop the ETL process for each of your tables before completing the `etl.py` file to load the whole datasets."
   ]
  },
  {
   "cell_type": "code",
   "execution_count": 1,
   "metadata": {},
   "outputs": [],
   "source": [
    "import os\n",
    "import glob\n",
    "import psycopg2\n",
    "import pandas as pd\n",
    "from sql_queries import *"
   ]
  },
  {
   "cell_type": "code",
   "execution_count": 2,
   "metadata": {},
   "outputs": [],
   "source": [
    "conn = psycopg2.connect(\"host=127.0.0.1 dbname=sparkifydb user=student password=student\")\n",
    "cur = conn.cursor()"
   ]
  },
  {
   "cell_type": "code",
   "execution_count": 3,
   "metadata": {},
   "outputs": [],
   "source": [
    "def get_files(filepath):\n",
    "    all_files = []\n",
    "    for root, dirs, files in os.walk(filepath):\n",
    "        files = glob.glob(os.path.join(root,'*.json'))\n",
    "        for f in files :\n",
    "            all_files.append(os.path.abspath(f))\n",
    "    \n",
    "    return all_files"
   ]
  },
  {
   "cell_type": "markdown",
   "metadata": {},
   "source": [
    "# Process `song_data`\n",
    "In this first part, you'll perform ETL on the first dataset, `song_data`, to create the `songs` and `artists` dimensional tables.\n",
    "\n",
    "Let's perform ETL on a single song file and load a single record into each table to start.\n",
    "- Use the `get_files` function provided above to get a list of all song JSON files in `data/song_data`\n",
    "- Select the first song in this list\n",
    "- Read the song file and view the data"
   ]
  },
  {
   "cell_type": "code",
   "execution_count": 4,
   "metadata": {
    "scrolled": true
   },
   "outputs": [
    {
     "data": {
      "text/plain": [
       "['/home/gykimura/Documents/udacity/git/song-play-analysis/data/song_data/A/B/C/TRABCEI128F424C983.json',\n",
       " '/home/gykimura/Documents/udacity/git/song-play-analysis/data/song_data/A/B/C/TRABCIX128F4265903.json',\n",
       " '/home/gykimura/Documents/udacity/git/song-play-analysis/data/song_data/A/B/C/TRABCUQ128E0783E2B.json',\n",
       " '/home/gykimura/Documents/udacity/git/song-play-analysis/data/song_data/A/B/C/TRABCYE128F934CE1D.json',\n",
       " '/home/gykimura/Documents/udacity/git/song-play-analysis/data/song_data/A/B/C/TRABCTK128F934B224.json',\n",
       " '/home/gykimura/Documents/udacity/git/song-play-analysis/data/song_data/A/B/C/TRABCPZ128F4275C32.json',\n",
       " '/home/gykimura/Documents/udacity/git/song-play-analysis/data/song_data/A/B/C/TRABCXB128F4286BD3.json',\n",
       " '/home/gykimura/Documents/udacity/git/song-play-analysis/data/song_data/A/B/C/TRABCAJ12903CDFCC2.json',\n",
       " '/home/gykimura/Documents/udacity/git/song-play-analysis/data/song_data/A/B/C/TRABCRU128F423F449.json',\n",
       " '/home/gykimura/Documents/udacity/git/song-play-analysis/data/song_data/A/B/C/TRABCEC128F426456E.json',\n",
       " '/home/gykimura/Documents/udacity/git/song-play-analysis/data/song_data/A/B/C/TRABCKL128F423A778.json',\n",
       " '/home/gykimura/Documents/udacity/git/song-play-analysis/data/song_data/A/B/C/TRABCFL128F149BB0D.json',\n",
       " '/home/gykimura/Documents/udacity/git/song-play-analysis/data/song_data/A/B/B/TRABBOR128F4286200.json',\n",
       " '/home/gykimura/Documents/udacity/git/song-play-analysis/data/song_data/A/B/B/TRABBNP128F932546F.json',\n",
       " '/home/gykimura/Documents/udacity/git/song-play-analysis/data/song_data/A/B/B/TRABBKX128F4285205.json',\n",
       " '/home/gykimura/Documents/udacity/git/song-play-analysis/data/song_data/A/B/B/TRABBOP128F931B50D.json',\n",
       " '/home/gykimura/Documents/udacity/git/song-play-analysis/data/song_data/A/B/B/TRABBZN12903CD9297.json',\n",
       " '/home/gykimura/Documents/udacity/git/song-play-analysis/data/song_data/A/B/B/TRABBBV128F42967D7.json',\n",
       " '/home/gykimura/Documents/udacity/git/song-play-analysis/data/song_data/A/B/B/TRABBAM128F429D223.json',\n",
       " '/home/gykimura/Documents/udacity/git/song-play-analysis/data/song_data/A/B/B/TRABBVJ128F92F7EAA.json',\n",
       " '/home/gykimura/Documents/udacity/git/song-play-analysis/data/song_data/A/B/B/TRABBJE12903CDB442.json',\n",
       " '/home/gykimura/Documents/udacity/git/song-play-analysis/data/song_data/A/B/B/TRABBXU128F92FEF48.json',\n",
       " '/home/gykimura/Documents/udacity/git/song-play-analysis/data/song_data/A/B/B/TRABBTA128F933D304.json',\n",
       " '/home/gykimura/Documents/udacity/git/song-play-analysis/data/song_data/A/B/B/TRABBLU128F93349CF.json',\n",
       " '/home/gykimura/Documents/udacity/git/song-play-analysis/data/song_data/A/B/A/TRABAFJ128F42AF24E.json',\n",
       " '/home/gykimura/Documents/udacity/git/song-play-analysis/data/song_data/A/B/A/TRABAWW128F4250A31.json',\n",
       " '/home/gykimura/Documents/udacity/git/song-play-analysis/data/song_data/A/B/A/TRABAXL128F424FC50.json',\n",
       " '/home/gykimura/Documents/udacity/git/song-play-analysis/data/song_data/A/B/A/TRABAZH128F930419A.json',\n",
       " '/home/gykimura/Documents/udacity/git/song-play-analysis/data/song_data/A/B/A/TRABAVQ12903CBF7E0.json',\n",
       " '/home/gykimura/Documents/udacity/git/song-play-analysis/data/song_data/A/B/A/TRABAFP128F931E9A1.json',\n",
       " '/home/gykimura/Documents/udacity/git/song-play-analysis/data/song_data/A/B/A/TRABAXR128F426515F.json',\n",
       " '/home/gykimura/Documents/udacity/git/song-play-analysis/data/song_data/A/B/A/TRABAXV128F92F6AE3.json',\n",
       " '/home/gykimura/Documents/udacity/git/song-play-analysis/data/song_data/A/B/A/TRABACN128F425B784.json',\n",
       " '/home/gykimura/Documents/udacity/git/song-play-analysis/data/song_data/A/B/A/TRABAIO128F42938F9.json',\n",
       " '/home/gykimura/Documents/udacity/git/song-play-analysis/data/song_data/A/B/A/TRABATO128F42627E9.json',\n",
       " '/home/gykimura/Documents/udacity/git/song-play-analysis/data/song_data/A/A/C/TRAACOW128F933E35F.json',\n",
       " '/home/gykimura/Documents/udacity/git/song-play-analysis/data/song_data/A/A/C/TRAACSL128F93462F4.json',\n",
       " '/home/gykimura/Documents/udacity/git/song-play-analysis/data/song_data/A/A/C/TRAACHN128F1489601.json',\n",
       " '/home/gykimura/Documents/udacity/git/song-play-analysis/data/song_data/A/A/C/TRAACLV128F427E123.json',\n",
       " '/home/gykimura/Documents/udacity/git/song-play-analysis/data/song_data/A/A/C/TRAACFV128F935E50B.json',\n",
       " '/home/gykimura/Documents/udacity/git/song-play-analysis/data/song_data/A/A/C/TRAACPE128F421C1B9.json',\n",
       " '/home/gykimura/Documents/udacity/git/song-play-analysis/data/song_data/A/A/C/TRAACZK128F4243829.json',\n",
       " '/home/gykimura/Documents/udacity/git/song-play-analysis/data/song_data/A/A/C/TRAACER128F4290F96.json',\n",
       " '/home/gykimura/Documents/udacity/git/song-play-analysis/data/song_data/A/A/C/TRAACVS128E078BE39.json',\n",
       " '/home/gykimura/Documents/udacity/git/song-play-analysis/data/song_data/A/A/C/TRAACCG128F92E8A55.json',\n",
       " '/home/gykimura/Documents/udacity/git/song-play-analysis/data/song_data/A/A/C/TRAACTB12903CAAF15.json',\n",
       " '/home/gykimura/Documents/udacity/git/song-play-analysis/data/song_data/A/A/C/TRAACQT128F9331780.json',\n",
       " '/home/gykimura/Documents/udacity/git/song-play-analysis/data/song_data/A/A/C/TRAACIW12903CC0F6D.json',\n",
       " '/home/gykimura/Documents/udacity/git/song-play-analysis/data/song_data/A/A/C/TRAACNS128F14A2DF5.json',\n",
       " '/home/gykimura/Documents/udacity/git/song-play-analysis/data/song_data/A/A/B/TRAABLR128F423B7E3.json',\n",
       " '/home/gykimura/Documents/udacity/git/song-play-analysis/data/song_data/A/A/B/TRAABDL12903CAABBA.json',\n",
       " '/home/gykimura/Documents/udacity/git/song-play-analysis/data/song_data/A/A/B/TRAABVM128F92CA9DC.json',\n",
       " '/home/gykimura/Documents/udacity/git/song-play-analysis/data/song_data/A/A/B/TRAABCL128F4286650.json',\n",
       " '/home/gykimura/Documents/udacity/git/song-play-analysis/data/song_data/A/A/B/TRAABRB128F9306DD5.json',\n",
       " '/home/gykimura/Documents/udacity/git/song-play-analysis/data/song_data/A/A/B/TRAABNV128F425CEE1.json',\n",
       " '/home/gykimura/Documents/udacity/git/song-play-analysis/data/song_data/A/A/B/TRAABYN12903CFD305.json',\n",
       " '/home/gykimura/Documents/udacity/git/song-play-analysis/data/song_data/A/A/B/TRAABJV128F1460C49.json',\n",
       " '/home/gykimura/Documents/udacity/git/song-play-analysis/data/song_data/A/A/B/TRAABJL12903CDCF1A.json',\n",
       " '/home/gykimura/Documents/udacity/git/song-play-analysis/data/song_data/A/A/B/TRAABYW128F4244559.json',\n",
       " '/home/gykimura/Documents/udacity/git/song-play-analysis/data/song_data/A/A/B/TRAABXG128F9318EBD.json',\n",
       " '/home/gykimura/Documents/udacity/git/song-play-analysis/data/song_data/A/A/A/TRAAAMQ128F1460CD3.json',\n",
       " '/home/gykimura/Documents/udacity/git/song-play-analysis/data/song_data/A/A/A/TRAAAVO128F93133D4.json',\n",
       " '/home/gykimura/Documents/udacity/git/song-play-analysis/data/song_data/A/A/A/TRAAAEF128F4273421.json',\n",
       " '/home/gykimura/Documents/udacity/git/song-play-analysis/data/song_data/A/A/A/TRAAAPK128E0786D96.json',\n",
       " '/home/gykimura/Documents/udacity/git/song-play-analysis/data/song_data/A/A/A/TRAAADZ128F9348C2E.json',\n",
       " '/home/gykimura/Documents/udacity/git/song-play-analysis/data/song_data/A/A/A/TRAAAAW128F429D538.json',\n",
       " '/home/gykimura/Documents/udacity/git/song-play-analysis/data/song_data/A/A/A/TRAAAMO128F1481E7F.json',\n",
       " '/home/gykimura/Documents/udacity/git/song-play-analysis/data/song_data/A/A/A/TRAAAFD128F92F423A.json',\n",
       " '/home/gykimura/Documents/udacity/git/song-play-analysis/data/song_data/A/A/A/TRAAAVG12903CFA543.json',\n",
       " '/home/gykimura/Documents/udacity/git/song-play-analysis/data/song_data/A/A/A/TRAAABD128F429CF47.json',\n",
       " '/home/gykimura/Documents/udacity/git/song-play-analysis/data/song_data/A/A/A/TRAAARJ128F9320760.json']"
      ]
     },
     "execution_count": 4,
     "metadata": {},
     "output_type": "execute_result"
    }
   ],
   "source": [
    "song_files = get_files(\"./data/song_data\")\n",
    "song_files"
   ]
  },
  {
   "cell_type": "code",
   "execution_count": 5,
   "metadata": {},
   "outputs": [],
   "source": [
    "filepath = '/home/gykimura/Documents/udacity/git/song-play-analysis/data/song_data/A/B/C/TRABCIX128F4265903.json'"
   ]
  },
  {
   "cell_type": "code",
   "execution_count": 6,
   "metadata": {},
   "outputs": [
    {
     "data": {
      "text/html": [
       "<div>\n",
       "<style scoped>\n",
       "    .dataframe tbody tr th:only-of-type {\n",
       "        vertical-align: middle;\n",
       "    }\n",
       "\n",
       "    .dataframe tbody tr th {\n",
       "        vertical-align: top;\n",
       "    }\n",
       "\n",
       "    .dataframe thead th {\n",
       "        text-align: right;\n",
       "    }\n",
       "</style>\n",
       "<table border=\"1\" class=\"dataframe\">\n",
       "  <thead>\n",
       "    <tr style=\"text-align: right;\">\n",
       "      <th></th>\n",
       "      <th>num_songs</th>\n",
       "      <th>artist_id</th>\n",
       "      <th>artist_latitude</th>\n",
       "      <th>artist_longitude</th>\n",
       "      <th>artist_location</th>\n",
       "      <th>artist_name</th>\n",
       "      <th>song_id</th>\n",
       "      <th>title</th>\n",
       "      <th>duration</th>\n",
       "      <th>year</th>\n",
       "    </tr>\n",
       "  </thead>\n",
       "  <tbody>\n",
       "    <tr>\n",
       "      <th>0</th>\n",
       "      <td>1</td>\n",
       "      <td>ARNF6401187FB57032</td>\n",
       "      <td>40.79086</td>\n",
       "      <td>-73.96644</td>\n",
       "      <td>New York, NY [Manhattan]</td>\n",
       "      <td>Sophie B. Hawkins</td>\n",
       "      <td>SONWXQJ12A8C134D94</td>\n",
       "      <td>The Ballad Of Sleeping Beauty</td>\n",
       "      <td>305.162</td>\n",
       "      <td>1994</td>\n",
       "    </tr>\n",
       "  </tbody>\n",
       "</table>\n",
       "</div>"
      ],
      "text/plain": [
       "   num_songs           artist_id  artist_latitude  artist_longitude  \\\n",
       "0          1  ARNF6401187FB57032         40.79086         -73.96644   \n",
       "\n",
       "            artist_location        artist_name             song_id  \\\n",
       "0  New York, NY [Manhattan]  Sophie B. Hawkins  SONWXQJ12A8C134D94   \n",
       "\n",
       "                           title  duration  year  \n",
       "0  The Ballad Of Sleeping Beauty   305.162  1994  "
      ]
     },
     "execution_count": 6,
     "metadata": {},
     "output_type": "execute_result"
    }
   ],
   "source": [
    "df_songs = pd.read_json(filepath, lines=True)\n",
    "df_songs.head()"
   ]
  },
  {
   "cell_type": "markdown",
   "metadata": {},
   "source": [
    "## #1: `songs` Table\n",
    "#### Extract Data for Songs Table\n",
    "- Select columns for song ID, title, artist ID, year, and duration\n",
    "- Use `df.values` to select just the values from the dataframe\n",
    "- Index to select the first (only) record in the dataframe\n",
    "- Convert the array to a list and set it to `song_data`"
   ]
  },
  {
   "cell_type": "code",
   "execution_count": 7,
   "metadata": {},
   "outputs": [
    {
     "data": {
      "text/plain": [
       "['SONWXQJ12A8C134D94',\n",
       " 'The Ballad Of Sleeping Beauty',\n",
       " 'ARNF6401187FB57032',\n",
       " 1994,\n",
       " 305.162]"
      ]
     },
     "execution_count": 7,
     "metadata": {},
     "output_type": "execute_result"
    }
   ],
   "source": [
    "song_data = df_songs[['song_id', 'title', 'artist_id', 'year', 'duration']].values[0].tolist()\n",
    "song_data"
   ]
  },
  {
   "cell_type": "markdown",
   "metadata": {},
   "source": [
    "#### Insert Record into Song Table\n",
    "Implement the `song_table_insert` query in `sql_queries.py` and run the cell below to insert a record for this song into the `songs` table. Remember to run `create_tables.py` before running the cell below to ensure you've created/resetted the `songs` table in the sparkify database."
   ]
  },
  {
   "cell_type": "code",
   "execution_count": 8,
   "metadata": {},
   "outputs": [],
   "source": [
    "cur.execute(song_table_insert, song_data)\n",
    "conn.commit()"
   ]
  },
  {
   "cell_type": "markdown",
   "metadata": {},
   "source": [
    "Run `test.ipynb` to see if you've successfully added a record to this table."
   ]
  },
  {
   "cell_type": "markdown",
   "metadata": {},
   "source": [
    "## #2: `artists` Table\n",
    "#### Extract Data for Artists Table\n",
    "- Select columns for artist ID, name, location, latitude, and longitude\n",
    "- Use `df.values` to select just the values from the dataframe\n",
    "- Index to select the first (only) record in the dataframe\n",
    "- Convert the array to a list and set it to `artist_data`"
   ]
  },
  {
   "cell_type": "code",
   "execution_count": 9,
   "metadata": {},
   "outputs": [
    {
     "data": {
      "text/plain": [
       "Index(['num_songs', 'artist_id', 'artist_latitude', 'artist_longitude',\n",
       "       'artist_location', 'artist_name', 'song_id', 'title', 'duration',\n",
       "       'year'],\n",
       "      dtype='object')"
      ]
     },
     "execution_count": 9,
     "metadata": {},
     "output_type": "execute_result"
    }
   ],
   "source": [
    "df_songs.columns"
   ]
  },
  {
   "cell_type": "code",
   "execution_count": 10,
   "metadata": {},
   "outputs": [
    {
     "data": {
      "text/plain": [
       "['ARNF6401187FB57032',\n",
       " 'The Ballad Of Sleeping Beauty',\n",
       " 'New York, NY [Manhattan]',\n",
       " 40.79086,\n",
       " -73.96644]"
      ]
     },
     "execution_count": 10,
     "metadata": {},
     "output_type": "execute_result"
    }
   ],
   "source": [
    "artist_data = df_songs[['artist_id', 'title', 'artist_location', 'artist_latitude', 'artist_longitude']].values[0].tolist()\n",
    "artist_data"
   ]
  },
  {
   "cell_type": "markdown",
   "metadata": {},
   "source": [
    "#### Insert Record into Artist Table\n",
    "Implement the `artist_table_insert` query in `sql_queries.py` and run the cell below to insert a record for this song's artist into the `artists` table. Remember to run `create_tables.py` before running the cell below to ensure you've created/resetted the `artists` table in the sparkify database."
   ]
  },
  {
   "cell_type": "code",
   "execution_count": 11,
   "metadata": {},
   "outputs": [],
   "source": [
    "cur.execute(artist_table_insert, artist_data)\n",
    "conn.commit()"
   ]
  },
  {
   "cell_type": "markdown",
   "metadata": {},
   "source": [
    "Run `test.ipynb` to see if you've successfully added a record to this table."
   ]
  },
  {
   "cell_type": "markdown",
   "metadata": {},
   "source": [
    "# Process `log_data`\n",
    "In this part, you'll perform ETL on the second dataset, `log_data`, to create the `time` and `users` dimensional tables, as well as the `songplays` fact table.\n",
    "\n",
    "Let's perform ETL on a single log file and load a single record into each table.\n",
    "- Use the `get_files` function provided above to get a list of all log JSON files in `data/log_data`\n",
    "- Select the first log file in this list\n",
    "- Read the log file and view the data"
   ]
  },
  {
   "cell_type": "code",
   "execution_count": 12,
   "metadata": {
    "scrolled": true
   },
   "outputs": [
    {
     "data": {
      "text/plain": [
       "['/home/gykimura/Documents/udacity/git/song-play-analysis/data/log_data/2018/11/2018-11-26-events.json',\n",
       " '/home/gykimura/Documents/udacity/git/song-play-analysis/data/log_data/2018/11/2018-11-09-events.json',\n",
       " '/home/gykimura/Documents/udacity/git/song-play-analysis/data/log_data/2018/11/2018-11-30-events.json',\n",
       " '/home/gykimura/Documents/udacity/git/song-play-analysis/data/log_data/2018/11/2018-11-01-events.json',\n",
       " '/home/gykimura/Documents/udacity/git/song-play-analysis/data/log_data/2018/11/2018-11-05-events.json',\n",
       " '/home/gykimura/Documents/udacity/git/song-play-analysis/data/log_data/2018/11/2018-11-19-events.json',\n",
       " '/home/gykimura/Documents/udacity/git/song-play-analysis/data/log_data/2018/11/2018-11-03-events.json',\n",
       " '/home/gykimura/Documents/udacity/git/song-play-analysis/data/log_data/2018/11/2018-11-18-events.json',\n",
       " '/home/gykimura/Documents/udacity/git/song-play-analysis/data/log_data/2018/11/2018-11-20-events.json',\n",
       " '/home/gykimura/Documents/udacity/git/song-play-analysis/data/log_data/2018/11/2018-11-12-events.json',\n",
       " '/home/gykimura/Documents/udacity/git/song-play-analysis/data/log_data/2018/11/2018-11-29-events.json',\n",
       " '/home/gykimura/Documents/udacity/git/song-play-analysis/data/log_data/2018/11/2018-11-25-events.json',\n",
       " '/home/gykimura/Documents/udacity/git/song-play-analysis/data/log_data/2018/11/2018-11-27-events.json',\n",
       " '/home/gykimura/Documents/udacity/git/song-play-analysis/data/log_data/2018/11/2018-11-24-events.json',\n",
       " '/home/gykimura/Documents/udacity/git/song-play-analysis/data/log_data/2018/11/2018-11-10-events.json',\n",
       " '/home/gykimura/Documents/udacity/git/song-play-analysis/data/log_data/2018/11/2018-11-13-events.json',\n",
       " '/home/gykimura/Documents/udacity/git/song-play-analysis/data/log_data/2018/11/2018-11-02-events.json',\n",
       " '/home/gykimura/Documents/udacity/git/song-play-analysis/data/log_data/2018/11/2018-11-21-events.json',\n",
       " '/home/gykimura/Documents/udacity/git/song-play-analysis/data/log_data/2018/11/2018-11-17-events.json',\n",
       " '/home/gykimura/Documents/udacity/git/song-play-analysis/data/log_data/2018/11/2018-11-07-events.json',\n",
       " '/home/gykimura/Documents/udacity/git/song-play-analysis/data/log_data/2018/11/2018-11-11-events.json',\n",
       " '/home/gykimura/Documents/udacity/git/song-play-analysis/data/log_data/2018/11/2018-11-28-events.json',\n",
       " '/home/gykimura/Documents/udacity/git/song-play-analysis/data/log_data/2018/11/2018-11-04-events.json',\n",
       " '/home/gykimura/Documents/udacity/git/song-play-analysis/data/log_data/2018/11/2018-11-22-events.json',\n",
       " '/home/gykimura/Documents/udacity/git/song-play-analysis/data/log_data/2018/11/2018-11-08-events.json',\n",
       " '/home/gykimura/Documents/udacity/git/song-play-analysis/data/log_data/2018/11/2018-11-16-events.json',\n",
       " '/home/gykimura/Documents/udacity/git/song-play-analysis/data/log_data/2018/11/2018-11-15-events.json',\n",
       " '/home/gykimura/Documents/udacity/git/song-play-analysis/data/log_data/2018/11/2018-11-14-events.json',\n",
       " '/home/gykimura/Documents/udacity/git/song-play-analysis/data/log_data/2018/11/2018-11-23-events.json',\n",
       " '/home/gykimura/Documents/udacity/git/song-play-analysis/data/log_data/2018/11/2018-11-06-events.json']"
      ]
     },
     "execution_count": 12,
     "metadata": {},
     "output_type": "execute_result"
    }
   ],
   "source": [
    "log_files = get_files(\"./data/log_data\")\n",
    "log_files"
   ]
  },
  {
   "cell_type": "code",
   "execution_count": 13,
   "metadata": {},
   "outputs": [],
   "source": [
    "filepath = '/home/gykimura/Documents/udacity/git/song-play-analysis/data/log_data/2018/11/2018-11-26-events.json'"
   ]
  },
  {
   "cell_type": "code",
   "execution_count": 14,
   "metadata": {},
   "outputs": [
    {
     "data": {
      "text/html": [
       "<div>\n",
       "<style scoped>\n",
       "    .dataframe tbody tr th:only-of-type {\n",
       "        vertical-align: middle;\n",
       "    }\n",
       "\n",
       "    .dataframe tbody tr th {\n",
       "        vertical-align: top;\n",
       "    }\n",
       "\n",
       "    .dataframe thead th {\n",
       "        text-align: right;\n",
       "    }\n",
       "</style>\n",
       "<table border=\"1\" class=\"dataframe\">\n",
       "  <thead>\n",
       "    <tr style=\"text-align: right;\">\n",
       "      <th></th>\n",
       "      <th>artist</th>\n",
       "      <th>auth</th>\n",
       "      <th>firstName</th>\n",
       "      <th>gender</th>\n",
       "      <th>itemInSession</th>\n",
       "      <th>lastName</th>\n",
       "      <th>length</th>\n",
       "      <th>level</th>\n",
       "      <th>location</th>\n",
       "      <th>method</th>\n",
       "      <th>page</th>\n",
       "      <th>registration</th>\n",
       "      <th>sessionId</th>\n",
       "      <th>song</th>\n",
       "      <th>status</th>\n",
       "      <th>ts</th>\n",
       "      <th>userAgent</th>\n",
       "      <th>userId</th>\n",
       "    </tr>\n",
       "  </thead>\n",
       "  <tbody>\n",
       "    <tr>\n",
       "      <th>0</th>\n",
       "      <td>Muse</td>\n",
       "      <td>Logged In</td>\n",
       "      <td>Jordan</td>\n",
       "      <td>F</td>\n",
       "      <td>3</td>\n",
       "      <td>Hicks</td>\n",
       "      <td>259.26485</td>\n",
       "      <td>free</td>\n",
       "      <td>Salinas, CA</td>\n",
       "      <td>PUT</td>\n",
       "      <td>NextSong</td>\n",
       "      <td>1.540009e+12</td>\n",
       "      <td>814</td>\n",
       "      <td>Supermassive Black Hole [Phones Control Voltag...</td>\n",
       "      <td>200</td>\n",
       "      <td>1543190563796</td>\n",
       "      <td>\"Mozilla/5.0 (Macintosh; Intel Mac OS X 10_9_4...</td>\n",
       "      <td>37</td>\n",
       "    </tr>\n",
       "    <tr>\n",
       "      <th>1</th>\n",
       "      <td>None</td>\n",
       "      <td>Logged In</td>\n",
       "      <td>Jordan</td>\n",
       "      <td>F</td>\n",
       "      <td>4</td>\n",
       "      <td>Hicks</td>\n",
       "      <td>NaN</td>\n",
       "      <td>free</td>\n",
       "      <td>Salinas, CA</td>\n",
       "      <td>PUT</td>\n",
       "      <td>Logout</td>\n",
       "      <td>1.540009e+12</td>\n",
       "      <td>814</td>\n",
       "      <td>None</td>\n",
       "      <td>307</td>\n",
       "      <td>1543190564796</td>\n",
       "      <td>\"Mozilla/5.0 (Macintosh; Intel Mac OS X 10_9_4...</td>\n",
       "      <td>37</td>\n",
       "    </tr>\n",
       "    <tr>\n",
       "      <th>2</th>\n",
       "      <td>None</td>\n",
       "      <td>Logged Out</td>\n",
       "      <td>None</td>\n",
       "      <td>None</td>\n",
       "      <td>5</td>\n",
       "      <td>None</td>\n",
       "      <td>NaN</td>\n",
       "      <td>free</td>\n",
       "      <td>None</td>\n",
       "      <td>GET</td>\n",
       "      <td>Home</td>\n",
       "      <td>NaN</td>\n",
       "      <td>814</td>\n",
       "      <td>None</td>\n",
       "      <td>200</td>\n",
       "      <td>1543190570796</td>\n",
       "      <td>None</td>\n",
       "      <td></td>\n",
       "    </tr>\n",
       "    <tr>\n",
       "      <th>3</th>\n",
       "      <td>None</td>\n",
       "      <td>Logged Out</td>\n",
       "      <td>None</td>\n",
       "      <td>None</td>\n",
       "      <td>6</td>\n",
       "      <td>None</td>\n",
       "      <td>NaN</td>\n",
       "      <td>free</td>\n",
       "      <td>None</td>\n",
       "      <td>PUT</td>\n",
       "      <td>Login</td>\n",
       "      <td>NaN</td>\n",
       "      <td>814</td>\n",
       "      <td>None</td>\n",
       "      <td>307</td>\n",
       "      <td>1543190571796</td>\n",
       "      <td>None</td>\n",
       "      <td></td>\n",
       "    </tr>\n",
       "    <tr>\n",
       "      <th>4</th>\n",
       "      <td>None</td>\n",
       "      <td>Logged In</td>\n",
       "      <td>Jordan</td>\n",
       "      <td>F</td>\n",
       "      <td>7</td>\n",
       "      <td>Hicks</td>\n",
       "      <td>NaN</td>\n",
       "      <td>free</td>\n",
       "      <td>Salinas, CA</td>\n",
       "      <td>GET</td>\n",
       "      <td>Home</td>\n",
       "      <td>1.540009e+12</td>\n",
       "      <td>814</td>\n",
       "      <td>None</td>\n",
       "      <td>200</td>\n",
       "      <td>1543190601796</td>\n",
       "      <td>\"Mozilla/5.0 (Macintosh; Intel Mac OS X 10_9_4...</td>\n",
       "      <td>37</td>\n",
       "    </tr>\n",
       "  </tbody>\n",
       "</table>\n",
       "</div>"
      ],
      "text/plain": [
       "  artist        auth firstName gender  itemInSession lastName     length  \\\n",
       "0   Muse   Logged In    Jordan      F              3    Hicks  259.26485   \n",
       "1   None   Logged In    Jordan      F              4    Hicks        NaN   \n",
       "2   None  Logged Out      None   None              5     None        NaN   \n",
       "3   None  Logged Out      None   None              6     None        NaN   \n",
       "4   None   Logged In    Jordan      F              7    Hicks        NaN   \n",
       "\n",
       "  level     location method      page  registration  sessionId  \\\n",
       "0  free  Salinas, CA    PUT  NextSong  1.540009e+12        814   \n",
       "1  free  Salinas, CA    PUT    Logout  1.540009e+12        814   \n",
       "2  free         None    GET      Home           NaN        814   \n",
       "3  free         None    PUT     Login           NaN        814   \n",
       "4  free  Salinas, CA    GET      Home  1.540009e+12        814   \n",
       "\n",
       "                                                song  status             ts  \\\n",
       "0  Supermassive Black Hole [Phones Control Voltag...     200  1543190563796   \n",
       "1                                               None     307  1543190564796   \n",
       "2                                               None     200  1543190570796   \n",
       "3                                               None     307  1543190571796   \n",
       "4                                               None     200  1543190601796   \n",
       "\n",
       "                                           userAgent userId  \n",
       "0  \"Mozilla/5.0 (Macintosh; Intel Mac OS X 10_9_4...     37  \n",
       "1  \"Mozilla/5.0 (Macintosh; Intel Mac OS X 10_9_4...     37  \n",
       "2                                               None         \n",
       "3                                               None         \n",
       "4  \"Mozilla/5.0 (Macintosh; Intel Mac OS X 10_9_4...     37  "
      ]
     },
     "execution_count": 14,
     "metadata": {},
     "output_type": "execute_result"
    }
   ],
   "source": [
    "df_logs = pd.read_json(filepath, lines=True)\n",
    "df_logs.head()"
   ]
  },
  {
   "cell_type": "markdown",
   "metadata": {},
   "source": [
    "## #3: `time` Table\n",
    "#### Extract Data for Time Table\n",
    "- Filter records by `NextSong` action\n",
    "- Convert the `ts` timestamp column to datetime\n",
    "  - Hint: the current timestamp is in milliseconds\n",
    "- Extract the timestamp, hour, day, week of year, month, year, and weekday from the `ts` column and set `time_data` to a list containing these values in order\n",
    "  - Hint: use pandas' [`dt` attribute](https://pandas.pydata.org/pandas-docs/stable/reference/api/pandas.Series.dt.html) to access easily datetimelike properties.\n",
    "- Specify labels for these columns and set to `column_labels`\n",
    "- Create a dataframe, `time_df,` containing the time data for this file by combining `column_labels` and `time_data` into a dictionary and converting this into a dataframe"
   ]
  },
  {
   "cell_type": "code",
   "execution_count": 15,
   "metadata": {},
   "outputs": [
    {
     "data": {
      "text/html": [
       "<div>\n",
       "<style scoped>\n",
       "    .dataframe tbody tr th:only-of-type {\n",
       "        vertical-align: middle;\n",
       "    }\n",
       "\n",
       "    .dataframe tbody tr th {\n",
       "        vertical-align: top;\n",
       "    }\n",
       "\n",
       "    .dataframe thead th {\n",
       "        text-align: right;\n",
       "    }\n",
       "</style>\n",
       "<table border=\"1\" class=\"dataframe\">\n",
       "  <thead>\n",
       "    <tr style=\"text-align: right;\">\n",
       "      <th></th>\n",
       "      <th>artist</th>\n",
       "      <th>auth</th>\n",
       "      <th>firstName</th>\n",
       "      <th>gender</th>\n",
       "      <th>itemInSession</th>\n",
       "      <th>lastName</th>\n",
       "      <th>length</th>\n",
       "      <th>level</th>\n",
       "      <th>location</th>\n",
       "      <th>method</th>\n",
       "      <th>page</th>\n",
       "      <th>registration</th>\n",
       "      <th>sessionId</th>\n",
       "      <th>song</th>\n",
       "      <th>status</th>\n",
       "      <th>ts</th>\n",
       "      <th>userAgent</th>\n",
       "      <th>userId</th>\n",
       "    </tr>\n",
       "  </thead>\n",
       "  <tbody>\n",
       "    <tr>\n",
       "      <th>0</th>\n",
       "      <td>Muse</td>\n",
       "      <td>Logged In</td>\n",
       "      <td>Jordan</td>\n",
       "      <td>F</td>\n",
       "      <td>3</td>\n",
       "      <td>Hicks</td>\n",
       "      <td>259.26485</td>\n",
       "      <td>free</td>\n",
       "      <td>Salinas, CA</td>\n",
       "      <td>PUT</td>\n",
       "      <td>NextSong</td>\n",
       "      <td>1.540009e+12</td>\n",
       "      <td>814</td>\n",
       "      <td>Supermassive Black Hole [Phones Control Voltag...</td>\n",
       "      <td>200</td>\n",
       "      <td>1543190563796</td>\n",
       "      <td>\"Mozilla/5.0 (Macintosh; Intel Mac OS X 10_9_4...</td>\n",
       "      <td>37</td>\n",
       "    </tr>\n",
       "    <tr>\n",
       "      <th>6</th>\n",
       "      <td>Mobin Master Feat. Robin S.</td>\n",
       "      <td>Logged In</td>\n",
       "      <td>Jayden</td>\n",
       "      <td>M</td>\n",
       "      <td>1</td>\n",
       "      <td>Fox</td>\n",
       "      <td>428.64281</td>\n",
       "      <td>free</td>\n",
       "      <td>New Orleans-Metairie, LA</td>\n",
       "      <td>PUT</td>\n",
       "      <td>NextSong</td>\n",
       "      <td>1.541034e+12</td>\n",
       "      <td>842</td>\n",
       "      <td>Show Me Love</td>\n",
       "      <td>200</td>\n",
       "      <td>1543193241796</td>\n",
       "      <td>\"Mozilla/5.0 (Windows NT 6.3; WOW64) AppleWebK...</td>\n",
       "      <td>101</td>\n",
       "    </tr>\n",
       "    <tr>\n",
       "      <th>7</th>\n",
       "      <td>Duncan Dhu</td>\n",
       "      <td>Logged In</td>\n",
       "      <td>Bronson</td>\n",
       "      <td>M</td>\n",
       "      <td>0</td>\n",
       "      <td>Harris</td>\n",
       "      <td>211.90485</td>\n",
       "      <td>free</td>\n",
       "      <td>Eugene, OR</td>\n",
       "      <td>PUT</td>\n",
       "      <td>NextSong</td>\n",
       "      <td>1.540907e+12</td>\n",
       "      <td>827</td>\n",
       "      <td>Rozando La Eternidad</td>\n",
       "      <td>200</td>\n",
       "      <td>1543193525796</td>\n",
       "      <td>\"Mozilla/5.0 (Windows NT 6.1; WOW64) AppleWebK...</td>\n",
       "      <td>33</td>\n",
       "    </tr>\n",
       "    <tr>\n",
       "      <th>8</th>\n",
       "      <td>New Found Glory</td>\n",
       "      <td>Logged In</td>\n",
       "      <td>Bronson</td>\n",
       "      <td>M</td>\n",
       "      <td>1</td>\n",
       "      <td>Harris</td>\n",
       "      <td>222.69342</td>\n",
       "      <td>free</td>\n",
       "      <td>Eugene, OR</td>\n",
       "      <td>PUT</td>\n",
       "      <td>NextSong</td>\n",
       "      <td>1.540907e+12</td>\n",
       "      <td>827</td>\n",
       "      <td>the king of wishful thinking</td>\n",
       "      <td>200</td>\n",
       "      <td>1543193736796</td>\n",
       "      <td>\"Mozilla/5.0 (Windows NT 6.1; WOW64) AppleWebK...</td>\n",
       "      <td>33</td>\n",
       "    </tr>\n",
       "    <tr>\n",
       "      <th>9</th>\n",
       "      <td>Reel Big Fish</td>\n",
       "      <td>Logged In</td>\n",
       "      <td>Bronson</td>\n",
       "      <td>M</td>\n",
       "      <td>2</td>\n",
       "      <td>Harris</td>\n",
       "      <td>210.65098</td>\n",
       "      <td>free</td>\n",
       "      <td>Eugene, OR</td>\n",
       "      <td>PUT</td>\n",
       "      <td>NextSong</td>\n",
       "      <td>1.540907e+12</td>\n",
       "      <td>827</td>\n",
       "      <td>Beer</td>\n",
       "      <td>200</td>\n",
       "      <td>1543193958796</td>\n",
       "      <td>\"Mozilla/5.0 (Windows NT 6.1; WOW64) AppleWebK...</td>\n",
       "      <td>33</td>\n",
       "    </tr>\n",
       "  </tbody>\n",
       "</table>\n",
       "</div>"
      ],
      "text/plain": [
       "                        artist       auth firstName gender  itemInSession  \\\n",
       "0                         Muse  Logged In    Jordan      F              3   \n",
       "6  Mobin Master Feat. Robin S.  Logged In    Jayden      M              1   \n",
       "7                   Duncan Dhu  Logged In   Bronson      M              0   \n",
       "8              New Found Glory  Logged In   Bronson      M              1   \n",
       "9                Reel Big Fish  Logged In   Bronson      M              2   \n",
       "\n",
       "  lastName     length level                  location method      page  \\\n",
       "0    Hicks  259.26485  free               Salinas, CA    PUT  NextSong   \n",
       "6      Fox  428.64281  free  New Orleans-Metairie, LA    PUT  NextSong   \n",
       "7   Harris  211.90485  free                Eugene, OR    PUT  NextSong   \n",
       "8   Harris  222.69342  free                Eugene, OR    PUT  NextSong   \n",
       "9   Harris  210.65098  free                Eugene, OR    PUT  NextSong   \n",
       "\n",
       "   registration  sessionId                                               song  \\\n",
       "0  1.540009e+12        814  Supermassive Black Hole [Phones Control Voltag...   \n",
       "6  1.541034e+12        842                                       Show Me Love   \n",
       "7  1.540907e+12        827                               Rozando La Eternidad   \n",
       "8  1.540907e+12        827                       the king of wishful thinking   \n",
       "9  1.540907e+12        827                                               Beer   \n",
       "\n",
       "   status             ts                                          userAgent  \\\n",
       "0     200  1543190563796  \"Mozilla/5.0 (Macintosh; Intel Mac OS X 10_9_4...   \n",
       "6     200  1543193241796  \"Mozilla/5.0 (Windows NT 6.3; WOW64) AppleWebK...   \n",
       "7     200  1543193525796  \"Mozilla/5.0 (Windows NT 6.1; WOW64) AppleWebK...   \n",
       "8     200  1543193736796  \"Mozilla/5.0 (Windows NT 6.1; WOW64) AppleWebK...   \n",
       "9     200  1543193958796  \"Mozilla/5.0 (Windows NT 6.1; WOW64) AppleWebK...   \n",
       "\n",
       "  userId  \n",
       "0     37  \n",
       "6    101  \n",
       "7     33  \n",
       "8     33  \n",
       "9     33  "
      ]
     },
     "execution_count": 15,
     "metadata": {},
     "output_type": "execute_result"
    }
   ],
   "source": [
    "df_logs = df_logs[df_logs.page==\"NextSong\"]\n",
    "df_logs.head()"
   ]
  },
  {
   "cell_type": "code",
   "execution_count": 16,
   "metadata": {},
   "outputs": [
    {
     "data": {
      "text/plain": [
       "0     2018-11-26 00:02:43.796\n",
       "6     2018-11-26 00:47:21.796\n",
       "7     2018-11-26 00:52:05.796\n",
       "8     2018-11-26 00:55:36.796\n",
       "9     2018-11-26 00:59:18.796\n",
       "                ...          \n",
       "262   2018-11-26 18:58:10.796\n",
       "263   2018-11-26 19:01:37.796\n",
       "264   2018-11-26 19:04:31.796\n",
       "266   2018-11-26 19:38:19.796\n",
       "267   2018-11-26 19:41:55.796\n",
       "Name: ts, Length: 216, dtype: datetime64[ns]"
      ]
     },
     "execution_count": 16,
     "metadata": {},
     "output_type": "execute_result"
    }
   ],
   "source": [
    "df_logs['ts'] = pd.to_datetime(df_logs['ts'], unit='ms')\n",
    "df_logs['ts']"
   ]
  },
  {
   "cell_type": "code",
   "execution_count": 17,
   "metadata": {},
   "outputs": [
    {
     "name": "stderr",
     "output_type": "stream",
     "text": [
      "/tmp/ipykernel_60324/4162197901.py:2: FutureWarning: Series.dt.weekofyear and Series.dt.week have been deprecated.  Please use Series.dt.isocalendar().week instead.\n",
      "  df_logs['ts'].dt.weekofyear, df_logs['ts'].dt.month,\n"
     ]
    }
   ],
   "source": [
    "time_data = [df_logs['ts'], df_logs['ts'].dt.hour, df_logs['ts'].dt.day,\n",
    "            df_logs['ts'].dt.weekofyear, df_logs['ts'].dt.month,\n",
    "            df_logs['ts'].dt.year, df_logs['ts'].dt.weekday]\n",
    "column_labels = ['ts','hour','day','week of year','month','year','weekday']"
   ]
  },
  {
   "cell_type": "code",
   "execution_count": 18,
   "metadata": {},
   "outputs": [
    {
     "data": {
      "text/html": [
       "<div>\n",
       "<style scoped>\n",
       "    .dataframe tbody tr th:only-of-type {\n",
       "        vertical-align: middle;\n",
       "    }\n",
       "\n",
       "    .dataframe tbody tr th {\n",
       "        vertical-align: top;\n",
       "    }\n",
       "\n",
       "    .dataframe thead th {\n",
       "        text-align: right;\n",
       "    }\n",
       "</style>\n",
       "<table border=\"1\" class=\"dataframe\">\n",
       "  <thead>\n",
       "    <tr style=\"text-align: right;\">\n",
       "      <th></th>\n",
       "      <th>ts</th>\n",
       "      <th>hour</th>\n",
       "      <th>day</th>\n",
       "      <th>week of year</th>\n",
       "      <th>month</th>\n",
       "      <th>year</th>\n",
       "      <th>weekday</th>\n",
       "    </tr>\n",
       "  </thead>\n",
       "  <tbody>\n",
       "    <tr>\n",
       "      <th>0</th>\n",
       "      <td>2018-11-26 00:02:43.796</td>\n",
       "      <td>0</td>\n",
       "      <td>26</td>\n",
       "      <td>48</td>\n",
       "      <td>11</td>\n",
       "      <td>2018</td>\n",
       "      <td>0</td>\n",
       "    </tr>\n",
       "    <tr>\n",
       "      <th>6</th>\n",
       "      <td>2018-11-26 00:47:21.796</td>\n",
       "      <td>0</td>\n",
       "      <td>26</td>\n",
       "      <td>48</td>\n",
       "      <td>11</td>\n",
       "      <td>2018</td>\n",
       "      <td>0</td>\n",
       "    </tr>\n",
       "    <tr>\n",
       "      <th>7</th>\n",
       "      <td>2018-11-26 00:52:05.796</td>\n",
       "      <td>0</td>\n",
       "      <td>26</td>\n",
       "      <td>48</td>\n",
       "      <td>11</td>\n",
       "      <td>2018</td>\n",
       "      <td>0</td>\n",
       "    </tr>\n",
       "    <tr>\n",
       "      <th>8</th>\n",
       "      <td>2018-11-26 00:55:36.796</td>\n",
       "      <td>0</td>\n",
       "      <td>26</td>\n",
       "      <td>48</td>\n",
       "      <td>11</td>\n",
       "      <td>2018</td>\n",
       "      <td>0</td>\n",
       "    </tr>\n",
       "    <tr>\n",
       "      <th>9</th>\n",
       "      <td>2018-11-26 00:59:18.796</td>\n",
       "      <td>0</td>\n",
       "      <td>26</td>\n",
       "      <td>48</td>\n",
       "      <td>11</td>\n",
       "      <td>2018</td>\n",
       "      <td>0</td>\n",
       "    </tr>\n",
       "  </tbody>\n",
       "</table>\n",
       "</div>"
      ],
      "text/plain": [
       "                       ts  hour  day  week of year  month  year  weekday\n",
       "0 2018-11-26 00:02:43.796     0   26            48     11  2018        0\n",
       "6 2018-11-26 00:47:21.796     0   26            48     11  2018        0\n",
       "7 2018-11-26 00:52:05.796     0   26            48     11  2018        0\n",
       "8 2018-11-26 00:55:36.796     0   26            48     11  2018        0\n",
       "9 2018-11-26 00:59:18.796     0   26            48     11  2018        0"
      ]
     },
     "execution_count": 18,
     "metadata": {},
     "output_type": "execute_result"
    }
   ],
   "source": [
    "time_data_dict = dict(zip(column_labels, time_data))\n",
    "time_df = pd.DataFrame(time_data_dict)\n",
    "time_df.head()"
   ]
  },
  {
   "cell_type": "markdown",
   "metadata": {},
   "source": [
    "#### Insert Records into Time Table\n",
    "Implement the `time_table_insert` query in `sql_queries.py` and run the cell below to insert records for the timestamps in this log file into the `time` table. Remember to run `create_tables.py` before running the cell below to ensure you've created/resetted the `time` table in the sparkify database."
   ]
  },
  {
   "cell_type": "code",
   "execution_count": 19,
   "metadata": {},
   "outputs": [],
   "source": [
    "for i, row in time_df.iterrows():\n",
    "    cur.execute(time_table_insert, list(row))\n",
    "    conn.commit()"
   ]
  },
  {
   "cell_type": "markdown",
   "metadata": {},
   "source": [
    "Run `test.ipynb` to see if you've successfully added records to this table."
   ]
  },
  {
   "cell_type": "markdown",
   "metadata": {},
   "source": [
    "## #4: `users` Table\n",
    "#### Extract Data for Users Table\n",
    "- Select columns for user ID, first name, last name, gender and level and set to `user_df`"
   ]
  },
  {
   "cell_type": "code",
   "execution_count": 20,
   "metadata": {},
   "outputs": [
    {
     "data": {
      "text/plain": [
       "Index(['artist', 'auth', 'firstName', 'gender', 'itemInSession', 'lastName',\n",
       "       'length', 'level', 'location', 'method', 'page', 'registration',\n",
       "       'sessionId', 'song', 'status', 'ts', 'userAgent', 'userId'],\n",
       "      dtype='object')"
      ]
     },
     "execution_count": 20,
     "metadata": {},
     "output_type": "execute_result"
    }
   ],
   "source": [
    "df_logs.columns"
   ]
  },
  {
   "cell_type": "code",
   "execution_count": 21,
   "metadata": {},
   "outputs": [
    {
     "data": {
      "text/html": [
       "<div>\n",
       "<style scoped>\n",
       "    .dataframe tbody tr th:only-of-type {\n",
       "        vertical-align: middle;\n",
       "    }\n",
       "\n",
       "    .dataframe tbody tr th {\n",
       "        vertical-align: top;\n",
       "    }\n",
       "\n",
       "    .dataframe thead th {\n",
       "        text-align: right;\n",
       "    }\n",
       "</style>\n",
       "<table border=\"1\" class=\"dataframe\">\n",
       "  <thead>\n",
       "    <tr style=\"text-align: right;\">\n",
       "      <th></th>\n",
       "      <th>userId</th>\n",
       "      <th>firstName</th>\n",
       "      <th>lastName</th>\n",
       "      <th>gender</th>\n",
       "      <th>level</th>\n",
       "    </tr>\n",
       "  </thead>\n",
       "  <tbody>\n",
       "    <tr>\n",
       "      <th>0</th>\n",
       "      <td>37</td>\n",
       "      <td>Jordan</td>\n",
       "      <td>Hicks</td>\n",
       "      <td>F</td>\n",
       "      <td>free</td>\n",
       "    </tr>\n",
       "    <tr>\n",
       "      <th>6</th>\n",
       "      <td>101</td>\n",
       "      <td>Jayden</td>\n",
       "      <td>Fox</td>\n",
       "      <td>M</td>\n",
       "      <td>free</td>\n",
       "    </tr>\n",
       "    <tr>\n",
       "      <th>7</th>\n",
       "      <td>33</td>\n",
       "      <td>Bronson</td>\n",
       "      <td>Harris</td>\n",
       "      <td>M</td>\n",
       "      <td>free</td>\n",
       "    </tr>\n",
       "    <tr>\n",
       "      <th>8</th>\n",
       "      <td>33</td>\n",
       "      <td>Bronson</td>\n",
       "      <td>Harris</td>\n",
       "      <td>M</td>\n",
       "      <td>free</td>\n",
       "    </tr>\n",
       "    <tr>\n",
       "      <th>9</th>\n",
       "      <td>33</td>\n",
       "      <td>Bronson</td>\n",
       "      <td>Harris</td>\n",
       "      <td>M</td>\n",
       "      <td>free</td>\n",
       "    </tr>\n",
       "    <tr>\n",
       "      <th>...</th>\n",
       "      <td>...</td>\n",
       "      <td>...</td>\n",
       "      <td>...</td>\n",
       "      <td>...</td>\n",
       "      <td>...</td>\n",
       "    </tr>\n",
       "    <tr>\n",
       "      <th>262</th>\n",
       "      <td>80</td>\n",
       "      <td>Tegan</td>\n",
       "      <td>Levine</td>\n",
       "      <td>F</td>\n",
       "      <td>paid</td>\n",
       "    </tr>\n",
       "    <tr>\n",
       "      <th>263</th>\n",
       "      <td>80</td>\n",
       "      <td>Tegan</td>\n",
       "      <td>Levine</td>\n",
       "      <td>F</td>\n",
       "      <td>paid</td>\n",
       "    </tr>\n",
       "    <tr>\n",
       "      <th>264</th>\n",
       "      <td>80</td>\n",
       "      <td>Tegan</td>\n",
       "      <td>Levine</td>\n",
       "      <td>F</td>\n",
       "      <td>paid</td>\n",
       "    </tr>\n",
       "    <tr>\n",
       "      <th>266</th>\n",
       "      <td>52</td>\n",
       "      <td>Theodore</td>\n",
       "      <td>Smith</td>\n",
       "      <td>M</td>\n",
       "      <td>free</td>\n",
       "    </tr>\n",
       "    <tr>\n",
       "      <th>267</th>\n",
       "      <td>52</td>\n",
       "      <td>Theodore</td>\n",
       "      <td>Smith</td>\n",
       "      <td>M</td>\n",
       "      <td>free</td>\n",
       "    </tr>\n",
       "  </tbody>\n",
       "</table>\n",
       "<p>216 rows × 5 columns</p>\n",
       "</div>"
      ],
      "text/plain": [
       "    userId firstName lastName gender level\n",
       "0       37    Jordan    Hicks      F  free\n",
       "6      101    Jayden      Fox      M  free\n",
       "7       33   Bronson   Harris      M  free\n",
       "8       33   Bronson   Harris      M  free\n",
       "9       33   Bronson   Harris      M  free\n",
       "..     ...       ...      ...    ...   ...\n",
       "262     80     Tegan   Levine      F  paid\n",
       "263     80     Tegan   Levine      F  paid\n",
       "264     80     Tegan   Levine      F  paid\n",
       "266     52  Theodore    Smith      M  free\n",
       "267     52  Theodore    Smith      M  free\n",
       "\n",
       "[216 rows x 5 columns]"
      ]
     },
     "execution_count": 21,
     "metadata": {},
     "output_type": "execute_result"
    }
   ],
   "source": [
    "user_df = df_logs[['userId', 'firstName', 'lastName', 'gender', 'level']]\n",
    "user_df"
   ]
  },
  {
   "cell_type": "markdown",
   "metadata": {},
   "source": [
    "#### Insert Records into Users Table\n",
    "Implement the `user_table_insert` query in `sql_queries.py` and run the cell below to insert records for the users in this log file into the `users` table. Remember to run `create_tables.py` before running the cell below to ensure you've created/resetted the `users` table in the sparkify database."
   ]
  },
  {
   "cell_type": "code",
   "execution_count": 22,
   "metadata": {},
   "outputs": [],
   "source": [
    "for i, row in user_df.iterrows():\n",
    "    cur.execute(user_table_insert, row)\n",
    "    conn.commit()"
   ]
  },
  {
   "cell_type": "markdown",
   "metadata": {},
   "source": [
    "Run `test.ipynb` to see if you've successfully added records to this table."
   ]
  },
  {
   "cell_type": "markdown",
   "metadata": {},
   "source": [
    "## #5: `songplays` Table\n",
    "#### Extract Data and Songplays Table\n",
    "This one is a little more complicated since information from the songs table, artists table, and original log file are all needed for the `songplays` table. Since the log file does not specify an ID for either the song or the artist, you'll need to get the song ID and artist ID by querying the songs and artists tables to find matches based on song title, artist name, and song duration time.\n",
    "- Implement the `song_select` query in `sql_queries.py` to find the song ID and artist ID based on the title, artist name, and duration of a song.\n",
    "- Select the timestamp, user ID, level, song ID, artist ID, session ID, location, and user agent and set to `songplay_data`\n",
    "\n",
    "#### Insert Records into Songplays Table\n",
    "- Implement the `songplay_table_insert` query and run the cell below to insert records for the songplay actions in this log file into the `songplays` table. Remember to run `create_tables.py` before running the cell below to ensure you've created/resetted the `songplays` table in the sparkify database."
   ]
  },
  {
   "cell_type": "code",
   "execution_count": 23,
   "metadata": {},
   "outputs": [
    {
     "data": {
      "text/plain": [
       "Index(['artist', 'auth', 'firstName', 'gender', 'itemInSession', 'lastName',\n",
       "       'length', 'level', 'location', 'method', 'page', 'registration',\n",
       "       'sessionId', 'song', 'status', 'ts', 'userAgent', 'userId'],\n",
       "      dtype='object')"
      ]
     },
     "execution_count": 23,
     "metadata": {},
     "output_type": "execute_result"
    }
   ],
   "source": [
    "df_logs.columns"
   ]
  },
  {
   "cell_type": "code",
   "execution_count": 24,
   "metadata": {},
   "outputs": [],
   "source": [
    "#cur.execute(\"ROLLBACK\")\n",
    "#conn.commit()"
   ]
  },
  {
   "cell_type": "code",
   "execution_count": 25,
   "metadata": {},
   "outputs": [],
   "source": [
    "for index, row in df_logs.iterrows():\n",
    "\n",
    "    # get songid and artistid from song and artist tables\n",
    "    cur.execute(song_select, (row.song, row.artist, row.length))\n",
    "    results = cur.fetchone()\n",
    "    \n",
    "    if results:\n",
    "        songid, artistid = results\n",
    "    else:\n",
    "        songid, artistid = None, None\n",
    "\n",
    "    # insert songplay record\n",
    "    songplay_data = [row.ts, row.userId, row.level, songid, artistid, row.sessionId, row.location, row.userAgent]\n",
    "    cur.execute(songplay_table_insert, songplay_data)\n",
    "    conn.commit()"
   ]
  },
  {
   "cell_type": "markdown",
   "metadata": {},
   "source": [
    "Run `test.ipynb` to see if you've successfully added records to this table."
   ]
  },
  {
   "cell_type": "markdown",
   "metadata": {},
   "source": [
    "# Close Connection to Sparkify Database"
   ]
  },
  {
   "cell_type": "code",
   "execution_count": 26,
   "metadata": {},
   "outputs": [],
   "source": [
    "conn.close()"
   ]
  },
  {
   "cell_type": "markdown",
   "metadata": {},
   "source": [
    "# Implement `etl.py`\n",
    "Use what you've completed in this notebook to implement `etl.py`."
   ]
  },
  {
   "cell_type": "code",
   "execution_count": null,
   "metadata": {},
   "outputs": [],
   "source": []
  }
 ],
 "metadata": {
  "kernelspec": {
   "display_name": "Python 3 (ipykernel)",
   "language": "python",
   "name": "python3"
  },
  "language_info": {
   "codemirror_mode": {
    "name": "ipython",
    "version": 3
   },
   "file_extension": ".py",
   "mimetype": "text/x-python",
   "name": "python",
   "nbconvert_exporter": "python",
   "pygments_lexer": "ipython3",
   "version": "3.9.7"
  }
 },
 "nbformat": 4,
 "nbformat_minor": 2
}
